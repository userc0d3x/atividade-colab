{
  "nbformat": 4,
  "nbformat_minor": 0,
  "metadata": {
    "colab": {
      "provenance": []
    },
    "kernelspec": {
      "name": "python3",
      "display_name": "Python 3"
    },
    "language_info": {
      "name": "python"
    }
  },
  "cells": [
    {
      "cell_type": "markdown",
      "source": [
        "## Aula 1"
      ],
      "metadata": {
        "id": "oWwIJdTn3hUW"
      }
    },
    {
      "cell_type": "code",
      "source": [
        "print(\"I Competição de Programação da Start\")"
      ],
      "metadata": {
        "colab": {
          "base_uri": "https://localhost:8080/"
        },
        "id": "As7u4tl6vASU",
        "outputId": "1f85debe-4ab6-433e-e49d-88122e1c34d0"
      },
      "execution_count": null,
      "outputs": [
        {
          "output_type": "stream",
          "name": "stdout",
          "text": [
            "I Competição de Programação da Start\n"
          ]
        }
      ]
    },
    {
      "cell_type": "code",
      "source": [
        "ano = \"II\"\n",
        "\n",
        "print(ano, \"Competição de Programação da Start\")"
      ],
      "metadata": {
        "colab": {
          "base_uri": "https://localhost:8080/"
        },
        "id": "-kLPKftcxTAl",
        "outputId": "7a51392d-a057-4a8f-d9dc-7605bc5c7f8d"
      },
      "execution_count": null,
      "outputs": [
        {
          "output_type": "stream",
          "name": "stdout",
          "text": [
            "II Competição de Programação da Start\n"
          ]
        }
      ]
    },
    {
      "cell_type": "code",
      "source": [
        "print(f\"{ano} Competição de Programação da Start\")"
      ],
      "metadata": {
        "colab": {
          "base_uri": "https://localhost:8080/"
        },
        "id": "WLUAVjl4xvuW",
        "outputId": "ef030785-6a16-4fdb-80d5-b6cc267ef6ff"
      },
      "execution_count": null,
      "outputs": [
        {
          "output_type": "stream",
          "name": "stdout",
          "text": [
            "II Competição de Programação da Start\n"
          ]
        }
      ]
    },
    {
      "cell_type": "code",
      "source": [
        "ano = 2025\n",
        "local = \"Londrina\"\n",
        "tema = \"I competição de programação\"\n",
        "\n",
        "print(f\"{tema} de {ano} em {local}\")"
      ],
      "metadata": {
        "colab": {
          "base_uri": "https://localhost:8080/"
        },
        "id": "53zRTI_P5ADR",
        "outputId": "500a354a-d942-42d0-8f8f-cf4865edcfc0"
      },
      "execution_count": 3,
      "outputs": [
        {
          "output_type": "stream",
          "name": "stdout",
          "text": [
            "I competição de programação de 2025 em Londrina\n"
          ]
        }
      ]
    },
    {
      "cell_type": "markdown",
      "source": [
        "## Aula 2"
      ],
      "metadata": {
        "id": "f1KsTmx03lxi"
      }
    },
    {
      "cell_type": "markdown",
      "source": [
        "Contexto:\n",
        "\n",
        "Uma escola está promovendo uma campanha de incentivo à leitura, em que cada estudante recebe pontos ao concluir livros. Esses pontos podem ser trocados por diferentes premios da escola. As categorias de livros têm valores de pontos diferentes:\n",
        "\n",
        "* Livro de ficção: 10 pontos\n",
        "* Livro de não-ficção: 8 pontos\n",
        "* Livro infantil: 6 pontos\n",
        "\n",
        "**Problema:**\n",
        "\n",
        "Rodrigo leu um livro de cada categoria. Agora ele quer saber quantos pontos acumulou com sua leitura.\n",
        "\n",
        "Nosso objetivo é criar um programa em Python que:\n",
        "\n",
        "* Armazene a pontuação de cada categoria de livro em uma variável.\n",
        "* Calcule o total de pontos acumulados por Rodrigo.\n",
        "* Mostre na tela o total de pontos acumulados por Rodrigo."
      ],
      "metadata": {
        "id": "UiUmhq023phx"
      }
    },
    {
      "cell_type": "code",
      "source": [
        "livro_ficcao = 10\n",
        "livro_nficcao = 8\n",
        "livro_infantil = 6\n",
        "\n",
        "pontos_rodrigo = livro_ficcao + livro_nficcao + livro_infantil\n",
        "\n",
        "print(f\"Os pontos totais do Rodrigo são: {pontos_rodrigo}\")"
      ],
      "metadata": {
        "colab": {
          "base_uri": "https://localhost:8080/"
        },
        "id": "GQRpxCIk4B_O",
        "outputId": "cad1f838-f515-4a70-9cc5-ef516de4b45c"
      },
      "execution_count": null,
      "outputs": [
        {
          "output_type": "stream",
          "name": "stdout",
          "text": [
            "Os pontos totais do Rodrigo são: 24\n"
          ]
        }
      ]
    },
    {
      "cell_type": "markdown",
      "source": [
        "## Aula 3\n"
      ],
      "metadata": {
        "id": "EDZC6pjHbhA8"
      }
    },
    {
      "cell_type": "markdown",
      "source": [
        "\n",
        "\n",
        "**Entrada:**\n",
        "\n",
        "* A primeira linha contém um número inteiro `total_figurinhas`, que representa o número de figurinhas no envelope.\n",
        "* A segunda linha contém um número inteiro `numero_amigos`, que representa a quantidade de amigos de João (excluindo o próprio João)."
      ],
      "metadata": {
        "id": "Yd3mUA12bj7g"
      }
    },
    {
      "cell_type": "code",
      "source": [
        "total_figurinhas = int(input(\"Digite o total de figurinhas: \"))\n",
        "numero_amigos = int(input(\"Digite o número de amigos: \"))\n",
        "\n",
        "figurinhas_amigos = total_figurinhas // (numero_amigos + 2)\n",
        "figurinhas_joao = 2 * figurinhas_amigos\n",
        "\n",
        "print(f\"João recebeu {figurinhas_joao} figurinhas.\")\n",
        "print(f\"e seus amigos cada um recebeu {figurinhas_amigos}\")\n"
      ],
      "metadata": {
        "colab": {
          "base_uri": "https://localhost:8080/"
        },
        "id": "aL5npKxJheU8",
        "outputId": "e60e3620-d578-4dd0-af6e-0b0ca7af8d05"
      },
      "execution_count": 4,
      "outputs": [
        {
          "output_type": "stream",
          "name": "stdout",
          "text": [
            "Digite o total de figurinhas: 100\n",
            "Digite o número de amigos: 5\n",
            "João recebeu 28 figurinhas.\n",
            "e seus amigos cada um recebeu 14\n"
          ]
        }
      ]
    },
    {
      "cell_type": "markdown",
      "source": [
        "## Aula 4\n",
        "\n",
        "A turma de um colégio está organizando uma excursão para a serra e, para chegar ao pico da montanha, todos os alunos e monitores devem usar um bondinho. No entanto, a cabine do bondinho tem uma capacidade máxima de 50 pessoas por viagem.\n",
        "\n",
        "Você precisa criar um programa que verifique se todos os alunos e monitores podem ser transportados em apenas uma viagem.\n",
        "\n",
        "**Entrada**\n",
        "\n",
        "* Um número inteiro `numero_alunos`, representando a quantidade de alunos na excursão.\n",
        "* Um número inteiro `numero_monitores`, representando a quantidade de monitores na excursão."
      ],
      "metadata": {
        "id": "b1CiW6EUjo6L"
      }
    },
    {
      "cell_type": "code",
      "source": [
        "numero_alunos = int(input(\"Digite a quantidade de alunos: \"))\n",
        "numero_monitores = int(input(\"Digite a quantidade de monitores: \"))\n",
        "resposta_positiva = \"Pode ir\"\n",
        "resposta_negativa = \"Não pode ir\"\n",
        "\n",
        "if numero_alunos + numero_monitores <= 50:\n",
        "  print(resposta_positiva)\n",
        "else:\n",
        "  print(resposta_negativa)"
      ],
      "metadata": {
        "colab": {
          "base_uri": "https://localhost:8080/"
        },
        "id": "O7W6sA7HodAk",
        "outputId": "d651b0ed-10f5-40e1-a383-c5d1b9164265"
      },
      "execution_count": null,
      "outputs": [
        {
          "output_type": "stream",
          "name": "stdout",
          "text": [
            "Digite a quantidade de alunos: 10\n",
            "Digite a quantidade de monitores: 10\n",
            "Pode ir\n"
          ]
        }
      ]
    },
    {
      "cell_type": "markdown",
      "source": [
        "### Desafio\n",
        "\n",
        "Agora, imagine que infelizmente o bondinho que carrega 50 pessoas está em manutenção e agora todo mundo vai precisar usar um bondinho menos sofisticado e ele só pode levar 30 pessoas. Além disso, 8 professores do colégio também vão participar da excursão. Como fazemos para garantir que o número total de pessoas no bondinho (alunos, monitores e professores) não ultrapasse a capacidade máxima de 30 pessoas?\n",
        "\n",
        "Seu desafio é escrever um programa que verifique se é possível ou não levar todos em apenas uma viagem."
      ],
      "metadata": {
        "id": "jHx2aNirp7wu"
      }
    },
    {
      "cell_type": "code",
      "source": [
        "numero_alunos = int(input(\"Digite a quantidade de alunos: \"))\n",
        "numero_monitores = int(input(\"Digite a quantidade de monitores: \"))\n",
        "professores = 8\n",
        "resposta_positiva = \"Pode ir\"\n",
        "resposta_negativa = \"Não pode ir\"\n",
        "\n",
        "if numero_alunos + numero_monitores + professores <= 30:\n",
        "  print(resposta_positiva)\n",
        "else:\n",
        "  print(resposta_negativa)"
      ],
      "metadata": {
        "colab": {
          "base_uri": "https://localhost:8080/"
        },
        "id": "n5Bnr6UI59Eo",
        "outputId": "fd956ff1-53f1-4381-9bd8-e9127bb63fc0"
      },
      "execution_count": 7,
      "outputs": [
        {
          "output_type": "stream",
          "name": "stdout",
          "text": [
            "Digite a quantidade de alunos: 12\n",
            "Digite a quantidade de monitores: 11\n",
            "Não pode ir\n"
          ]
        }
      ]
    }
  ]
}